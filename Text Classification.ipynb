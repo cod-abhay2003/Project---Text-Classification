{
 "cells": [
  {
   "cell_type": "code",
   "execution_count": 150,
   "id": "ec818121",
   "metadata": {},
   "outputs": [],
   "source": [
    "#Importing required libraries\n",
    "import numpy as np\n",
    "import pandas as pd\n",
    "from sklearn import model_selection\n",
    "from sklearn.datasets import fetch_20newsgroups\n",
    "from nltk.tokenize import word_tokenize\n",
    "import string\n",
    "import matplotlib.pyplot as plt\n",
    "from sklearn.naive_bayes import MultinomialNB"
   ]
  },
  {
   "cell_type": "code",
   "execution_count": 151,
   "id": "d6400359",
   "metadata": {},
   "outputs": [
    {
     "name": "stdout",
     "output_type": "stream",
     "text": [
      "<class 'sklearn.utils.Bunch'>\n"
     ]
    }
   ],
   "source": [
    "text = fetch_20newsgroups()\n",
    "print(type(text))"
   ]
  },
  {
   "cell_type": "code",
   "execution_count": 152,
   "id": "7be39c24",
   "metadata": {},
   "outputs": [
    {
     "data": {
      "text/plain": [
       "dict_keys(['data', 'filenames', 'target_names', 'target', 'DESCR'])"
      ]
     },
     "execution_count": 152,
     "metadata": {},
     "output_type": "execute_result"
    }
   ],
   "source": [
    "text.keys()"
   ]
  },
  {
   "cell_type": "code",
   "execution_count": 153,
   "id": "132e0fc0",
   "metadata": {
    "scrolled": true
   },
   "outputs": [
    {
     "name": "stdout",
     "output_type": "stream",
     "text": [
      ".. _20newsgroups_dataset:\n",
      "\n",
      "The 20 newsgroups text dataset\n",
      "------------------------------\n",
      "\n",
      "The 20 newsgroups dataset comprises around 18000 newsgroups posts on\n",
      "20 topics split in two subsets: one for training (or development)\n",
      "and the other one for testing (or for performance evaluation). The split\n",
      "between the train and test set is based upon a messages posted before\n",
      "and after a specific date.\n",
      "\n",
      "This module contains two loaders. The first one,\n",
      ":func:`sklearn.datasets.fetch_20newsgroups`,\n",
      "returns a list of the raw texts that can be fed to text feature\n",
      "extractors such as :class:`~sklearn.feature_extraction.text.CountVectorizer`\n",
      "with custom parameters so as to extract feature vectors.\n",
      "The second one, :func:`sklearn.datasets.fetch_20newsgroups_vectorized`,\n",
      "returns ready-to-use features, i.e., it is not necessary to use a feature\n",
      "extractor.\n",
      "\n",
      "**Data Set Characteristics:**\n",
      "\n",
      "    =================   ==========\n",
      "    Classes                     20\n",
      "    Samples total            18846\n",
      "    Dimensionality               1\n",
      "    Features                  text\n",
      "    =================   ==========\n",
      "\n",
      "Usage\n",
      "~~~~~\n",
      "\n",
      "The :func:`sklearn.datasets.fetch_20newsgroups` function is a data\n",
      "fetching / caching functions that downloads the data archive from\n",
      "the original `20 newsgroups website`_, extracts the archive contents\n",
      "in the ``~/scikit_learn_data/20news_home`` folder and calls the\n",
      ":func:`sklearn.datasets.load_files` on either the training or\n",
      "testing set folder, or both of them::\n",
      "\n",
      "  >>> from sklearn.datasets import fetch_20newsgroups\n",
      "  >>> newsgroups_train = fetch_20newsgroups(subset='train')\n",
      "\n",
      "  >>> from pprint import pprint\n",
      "  >>> pprint(list(newsgroups_train.target_names))\n",
      "  ['alt.atheism',\n",
      "   'comp.graphics',\n",
      "   'comp.os.ms-windows.misc',\n",
      "   'comp.sys.ibm.pc.hardware',\n",
      "   'comp.sys.mac.hardware',\n",
      "   'comp.windows.x',\n",
      "   'misc.forsale',\n",
      "   'rec.autos',\n",
      "   'rec.motorcycles',\n",
      "   'rec.sport.baseball',\n",
      "   'rec.sport.hockey',\n",
      "   'sci.crypt',\n",
      "   'sci.electronics',\n",
      "   'sci.med',\n",
      "   'sci.space',\n",
      "   'soc.religion.christian',\n",
      "   'talk.politics.guns',\n",
      "   'talk.politics.mideast',\n",
      "   'talk.politics.misc',\n",
      "   'talk.religion.misc']\n",
      "\n",
      "The real data lies in the ``filenames`` and ``target`` attributes. The target\n",
      "attribute is the integer index of the category::\n",
      "\n",
      "  >>> newsgroups_train.filenames.shape\n",
      "  (11314,)\n",
      "  >>> newsgroups_train.target.shape\n",
      "  (11314,)\n",
      "  >>> newsgroups_train.target[:10]\n",
      "  array([ 7,  4,  4,  1, 14, 16, 13,  3,  2,  4])\n",
      "\n",
      "It is possible to load only a sub-selection of the categories by passing the\n",
      "list of the categories to load to the\n",
      ":func:`sklearn.datasets.fetch_20newsgroups` function::\n",
      "\n",
      "  >>> cats = ['alt.atheism', 'sci.space']\n",
      "  >>> newsgroups_train = fetch_20newsgroups(subset='train', categories=cats)\n",
      "\n",
      "  >>> list(newsgroups_train.target_names)\n",
      "  ['alt.atheism', 'sci.space']\n",
      "  >>> newsgroups_train.filenames.shape\n",
      "  (1073,)\n",
      "  >>> newsgroups_train.target.shape\n",
      "  (1073,)\n",
      "  >>> newsgroups_train.target[:10]\n",
      "  array([0, 1, 1, 1, 0, 1, 1, 0, 0, 0])\n",
      "\n",
      "Converting text to vectors\n",
      "~~~~~~~~~~~~~~~~~~~~~~~~~~\n",
      "\n",
      "In order to feed predictive or clustering models with the text data,\n",
      "one first need to turn the text into vectors of numerical values suitable\n",
      "for statistical analysis. This can be achieved with the utilities of the\n",
      "``sklearn.feature_extraction.text`` as demonstrated in the following\n",
      "example that extract `TF-IDF`_ vectors of unigram tokens\n",
      "from a subset of 20news::\n",
      "\n",
      "  >>> from sklearn.feature_extraction.text import TfidfVectorizer\n",
      "  >>> categories = ['alt.atheism', 'talk.religion.misc',\n",
      "  ...               'comp.graphics', 'sci.space']\n",
      "  >>> newsgroups_train = fetch_20newsgroups(subset='train',\n",
      "  ...                                       categories=categories)\n",
      "  >>> vectorizer = TfidfVectorizer()\n",
      "  >>> vectors = vectorizer.fit_transform(newsgroups_train.data)\n",
      "  >>> vectors.shape\n",
      "  (2034, 34118)\n",
      "\n",
      "The extracted TF-IDF vectors are very sparse, with an average of 159 non-zero\n",
      "components by sample in a more than 30000-dimensional space\n",
      "(less than .5% non-zero features)::\n",
      "\n",
      "  >>> vectors.nnz / float(vectors.shape[0])\n",
      "  159.01327...\n",
      "\n",
      ":func:`sklearn.datasets.fetch_20newsgroups_vectorized` is a function which\n",
      "returns ready-to-use token counts features instead of file names.\n",
      "\n",
      ".. _`20 newsgroups website`: http://people.csail.mit.edu/jrennie/20Newsgroups/\n",
      ".. _`TF-IDF`: https://en.wikipedia.org/wiki/Tf-idf\n",
      "\n",
      "\n",
      "Filtering text for more realistic training\n",
      "~~~~~~~~~~~~~~~~~~~~~~~~~~~~~~~~~~~~~~~~~~\n",
      "\n",
      "It is easy for a classifier to overfit on particular things that appear in the\n",
      "20 Newsgroups data, such as newsgroup headers. Many classifiers achieve very\n",
      "high F-scores, but their results would not generalize to other documents that\n",
      "aren't from this window of time.\n",
      "\n",
      "For example, let's look at the results of a multinomial Naive Bayes classifier,\n",
      "which is fast to train and achieves a decent F-score::\n",
      "\n",
      "  >>> from sklearn.naive_bayes import MultinomialNB\n",
      "  >>> from sklearn import metrics\n",
      "  >>> newsgroups_test = fetch_20newsgroups(subset='test',\n",
      "  ...                                      categories=categories)\n",
      "  >>> vectors_test = vectorizer.transform(newsgroups_test.data)\n",
      "  >>> clf = MultinomialNB(alpha=.01)\n",
      "  >>> clf.fit(vectors, newsgroups_train.target)\n",
      "  MultinomialNB(alpha=0.01, class_prior=None, fit_prior=True)\n",
      "\n",
      "  >>> pred = clf.predict(vectors_test)\n",
      "  >>> metrics.f1_score(newsgroups_test.target, pred, average='macro')\n",
      "  0.88213...\n",
      "\n",
      "(The example :ref:`sphx_glr_auto_examples_text_plot_document_classification_20newsgroups.py` shuffles\n",
      "the training and test data, instead of segmenting by time, and in that case\n",
      "multinomial Naive Bayes gets a much higher F-score of 0.88. Are you suspicious\n",
      "yet of what's going on inside this classifier?)\n",
      "\n",
      "Let's take a look at what the most informative features are:\n",
      "\n",
      "  >>> import numpy as np\n",
      "  >>> def show_top10(classifier, vectorizer, categories):\n",
      "  ...     feature_names = vectorizer.get_feature_names_out()\n",
      "  ...     for i, category in enumerate(categories):\n",
      "  ...         top10 = np.argsort(classifier.coef_[i])[-10:]\n",
      "  ...         print(\"%s: %s\" % (category, \" \".join(feature_names[top10])))\n",
      "  ...\n",
      "  >>> show_top10(clf, vectorizer, newsgroups_train.target_names)\n",
      "  alt.atheism: edu it and in you that is of to the\n",
      "  comp.graphics: edu in graphics it is for and of to the\n",
      "  sci.space: edu it that is in and space to of the\n",
      "  talk.religion.misc: not it you in is that and to of the\n",
      "\n",
      "\n",
      "You can now see many things that these features have overfit to:\n",
      "\n",
      "- Almost every group is distinguished by whether headers such as\n",
      "  ``NNTP-Posting-Host:`` and ``Distribution:`` appear more or less often.\n",
      "- Another significant feature involves whether the sender is affiliated with\n",
      "  a university, as indicated either by their headers or their signature.\n",
      "- The word \"article\" is a significant feature, based on how often people quote\n",
      "  previous posts like this: \"In article [article ID], [name] <[e-mail address]>\n",
      "  wrote:\"\n",
      "- Other features match the names and e-mail addresses of particular people who\n",
      "  were posting at the time.\n",
      "\n",
      "With such an abundance of clues that distinguish newsgroups, the classifiers\n",
      "barely have to identify topics from text at all, and they all perform at the\n",
      "same high level.\n",
      "\n",
      "For this reason, the functions that load 20 Newsgroups data provide a\n",
      "parameter called **remove**, telling it what kinds of information to strip out\n",
      "of each file. **remove** should be a tuple containing any subset of\n",
      "``('headers', 'footers', 'quotes')``, telling it to remove headers, signature\n",
      "blocks, and quotation blocks respectively.\n",
      "\n",
      "  >>> newsgroups_test = fetch_20newsgroups(subset='test',\n",
      "  ...                                      remove=('headers', 'footers', 'quotes'),\n",
      "  ...                                      categories=categories)\n",
      "  >>> vectors_test = vectorizer.transform(newsgroups_test.data)\n",
      "  >>> pred = clf.predict(vectors_test)\n",
      "  >>> metrics.f1_score(pred, newsgroups_test.target, average='macro')\n",
      "  0.77310...\n",
      "\n",
      "This classifier lost over a lot of its F-score, just because we removed\n",
      "metadata that has little to do with topic classification.\n",
      "It loses even more if we also strip this metadata from the training data:\n",
      "\n",
      "  >>> newsgroups_train = fetch_20newsgroups(subset='train',\n",
      "  ...                                       remove=('headers', 'footers', 'quotes'),\n",
      "  ...                                       categories=categories)\n",
      "  >>> vectors = vectorizer.fit_transform(newsgroups_train.data)\n",
      "  >>> clf = MultinomialNB(alpha=.01)\n",
      "  >>> clf.fit(vectors, newsgroups_train.target)\n",
      "  MultinomialNB(alpha=0.01, class_prior=None, fit_prior=True)\n",
      "\n",
      "  >>> vectors_test = vectorizer.transform(newsgroups_test.data)\n",
      "  >>> pred = clf.predict(vectors_test)\n",
      "  >>> metrics.f1_score(newsgroups_test.target, pred, average='macro')\n",
      "  0.76995...\n",
      "\n",
      "Some other classifiers cope better with this harder version of the task. Try\n",
      "running :ref:`sphx_glr_auto_examples_model_selection_grid_search_text_feature_extraction.py` with and without\n",
      "the ``--filter`` option to compare the results.\n",
      "\n",
      ".. topic:: Data Considerations\n",
      "\n",
      "  The Cleveland Indians is a major league baseball team based in Cleveland,\n",
      "  Ohio, USA. In December 2020, it was reported that \"After several months of\n",
      "  discussion sparked by the death of George Floyd and a national reckoning over\n",
      "  race and colonialism, the Cleveland Indians have decided to change their\n",
      "  name.\" Team owner Paul Dolan \"did make it clear that the team will not make\n",
      "  its informal nickname -- the Tribe -- its new team name.\" \"It’s not going to\n",
      "  be a half-step away from the Indians,\" Dolan said.\"We will not have a Native\n",
      "  American-themed name.\"\n",
      "\n",
      "  https://www.mlb.com/news/cleveland-indians-team-name-change\n",
      "\n",
      ".. topic:: Recommendation\n",
      "\n",
      "  - When evaluating text classifiers on the 20 Newsgroups data, you\n",
      "    should strip newsgroup-related metadata. In scikit-learn, you can do this\n",
      "    by setting ``remove=('headers', 'footers', 'quotes')``. The F-score will be\n",
      "    lower because it is more realistic.\n",
      "  - This text dataset contains data which may be inappropriate for certain NLP\n",
      "    applications. An example is listed in the \"Data Considerations\" section\n",
      "    above. The challenge with using current text datasets in NLP for tasks such\n",
      "    as sentence completion, clustering, and other applications is that text\n",
      "    that is culturally biased and inflammatory will propagate biases. This\n",
      "    should be taken into consideration when using the dataset, reviewing the\n",
      "    output, and the bias should be documented.\n",
      "\n",
      ".. topic:: Examples\n",
      "\n",
      "   * :ref:`sphx_glr_auto_examples_model_selection_grid_search_text_feature_extraction.py`\n",
      "\n",
      "   * :ref:`sphx_glr_auto_examples_text_plot_document_classification_20newsgroups.py`\n",
      "\n"
     ]
    }
   ],
   "source": [
    "print(text['DESCR'])\n",
    "#To get an idea how our dataset is."
   ]
  },
  {
   "cell_type": "code",
   "execution_count": 154,
   "id": "c7b8aec8",
   "metadata": {},
   "outputs": [],
   "source": [
    "stopwords = pd.read_csv('C:/Users/admin/OneDrive/Desktop/stopwords.csv')\n",
    "#downloaded a dataset of stopwords from the net"
   ]
  },
  {
   "cell_type": "code",
   "execution_count": 155,
   "id": "986492ef",
   "metadata": {},
   "outputs": [
    {
     "name": "stdout",
     "output_type": "stream",
     "text": [
      "764\n"
     ]
    }
   ],
   "source": [
    "stop_words = np.array(stopwords.values)\n",
    "stops = []\n",
    "for i in stop_words:\n",
    "    for j in i:\n",
    "        stops.append(j)\n",
    "punctuations = list(string.punctuation)\n",
    "stops = stops + punctuations\n",
    "print(len(stops))\n",
    "#got all the stopwords in a list "
   ]
  },
  {
   "cell_type": "code",
   "execution_count": 156,
   "id": "43e05482",
   "metadata": {},
   "outputs": [],
   "source": [
    "documents = text.data\n",
    "categories = text.target\n",
    "X = [word_tokenize(x) for x in documents]\n",
    "Y = categories"
   ]
  },
  {
   "cell_type": "code",
   "execution_count": 157,
   "id": "1bcd0d8c",
   "metadata": {},
   "outputs": [],
   "source": [
    "x_train, x_test, y_train, y_test = model_selection.train_test_split(X, Y, random_state = 1)"
   ]
  },
  {
   "cell_type": "code",
   "execution_count": 158,
   "id": "b5d48b34",
   "metadata": {},
   "outputs": [
    {
     "name": "stdout",
     "output_type": "stream",
     "text": [
      "1149089\n"
     ]
    }
   ],
   "source": [
    "words = []\n",
    "for i in x_train:\n",
    "    for word in i:\n",
    "        if(word.lower() not in stops and len(word) != 1 and len(word) != 2 and all(i not in punctuations for i in word)):\n",
    "            words.append(word)\n",
    "print(len(words))\n",
    "#seperated out the words we want to use as features for classification"
   ]
  },
  {
   "cell_type": "code",
   "execution_count": 159,
   "id": "5d04fe06",
   "metadata": {},
   "outputs": [
    {
     "name": "stdout",
     "output_type": "stream",
     "text": [
      "98144\n"
     ]
    }
   ],
   "source": [
    "dict = {}\n",
    "for i in words:\n",
    "    if i in dict.keys():\n",
    "        dict[i] = dict[i] + 1\n",
    "    else:\n",
    "        dict[i] = 1\n",
    "print(len(dict))\n",
    "#got a count of the required words in a dictionary"
   ]
  },
  {
   "cell_type": "code",
   "execution_count": 160,
   "id": "ddccd7c9",
   "metadata": {},
   "outputs": [],
   "source": [
    "frequency = np.sort(np.array([i for i in dict.values()]))[::-1]\n",
    "words = np.array([i for i in dict.keys()])\n",
    "words = words[np.argsort(frequency)][::-1]\n",
    "#got them arranged in descending order of occurance"
   ]
  },
  {
   "cell_type": "code",
   "execution_count": 161,
   "id": "db19e6e9",
   "metadata": {},
   "outputs": [
    {
     "data": {
      "image/png": "[encoded data removed]",
      "text/plain": [
       "<Figure size 2000x800 with 1 Axes>"
      ]
     },
     "metadata": {},
     "output_type": "display_data"
    }
   ],
   "source": [
    "plt.figure(figsize = (20, 8))\n",
    "plt.plot(np.arange(len(frequency))[0:3000], frequency[0:3000])\n",
    "plt.xlabel('nth Word')\n",
    "plt.ylabel('Frequency')\n",
    "plt.xticks(np.arange(0, 3000, 50), rotation = 90)\n",
    "plt.grid()\n",
    "plt.show()"
   ]
  },
  {
   "cell_type": "code",
   "execution_count": 162,
   "id": "e489e3c4",
   "metadata": {},
   "outputs": [
    {
     "name": "stdout",
     "output_type": "stream",
     "text": [
      "1972 46\n"
     ]
    }
   ],
   "source": [
    "features = words[20:4000]\n",
    "print(frequency[20], frequency[3999])\n",
    "#we don't need the words occuring too many times or to lees as they will be useless as features"
   ]
  },
  {
   "cell_type": "code",
   "execution_count": 163,
   "id": "f2b54443",
   "metadata": {},
   "outputs": [],
   "source": [
    "def final_data(x, y):\n",
    "    data = np.zeros((len(x), len(y)))\n",
    "    for i in range(len(x)):\n",
    "        for word in x[i]:\n",
    "            if word in y:\n",
    "                for j in range(len(y)):\n",
    "                    if y[j] == word:\n",
    "                        data[i][j] = data[i][j] + 1\n",
    "    return data\n",
    "#got the data in form of a 2D array where each row is a document and each column is a feature(word) and we have the count "
   ]
  },
  {
   "cell_type": "code",
   "execution_count": 164,
   "id": "e505570f",
   "metadata": {},
   "outputs": [],
   "source": [
    "final_x_train = final_data(x_train, features)\n",
    "final_x_test = final_data(x_test, features)"
   ]
  },
  {
   "cell_type": "code",
   "execution_count": 165,
   "id": "8b0dd52b",
   "metadata": {},
   "outputs": [
    {
     "data": {
      "text/plain": [
       "0.7483209614704843"
      ]
     },
     "execution_count": 165,
     "metadata": {},
     "output_type": "execute_result"
    }
   ],
   "source": [
    "clf = MultinomialNB()\n",
    "clf.fit(final_x_train, y_train)\n",
    "clf.score(final_x_test, y_test)"
   ]
  },
  {
   "cell_type": "code",
   "execution_count": 166,
   "id": "48e03157",
   "metadata": {},
   "outputs": [],
   "source": [
    "# Now creating our own Naive Bayes Classifier\n",
    "def fit(x_train, y_train):\n",
    "    count = {}\n",
    "    for i in range(20):\n",
    "        docs_of_cat_i = x_train[y_train == i]\n",
    "        count[i] = {}\n",
    "        count[i]['total'] = 0\n",
    "        for j in range(len(features)):\n",
    "            count[i][features[j]] = docs_of_cat_i[:, j].sum()\n",
    "            count[i]['total'] = count[i]['total'] + count[i][features[j]]\n",
    "    return count\n",
    "#creates a dictionary of length equal to number of classifications as each represent a different classification and in them \n",
    "#another dictionary containing words and the total count as keys and their occurance in those documents as the values."
   ]
  },
  {
   "cell_type": "code",
   "execution_count": 170,
   "id": "66c311b2",
   "metadata": {},
   "outputs": [],
   "source": [
    "def probability(dic, x, current_class):\n",
    "    prob_of_all_words = []\n",
    "    for i in range(len(x)):\n",
    "        if x[i] != 0:\n",
    "            num = dic[current_class][features[i]]\n",
    "            den = dic[current_class]['total']\n",
    "            prob = np.log((num+1) / (den+len(x)))\n",
    "            prob_of_all_words.append(prob)\n",
    "    return sum(prob_of_all_words)\n",
    "\n",
    "#It stores the probability of all words in the current document being accessed and returs their logarithemic sum. \n",
    "\n",
    "def pred_one(dic, x):\n",
    "    classes = dic.keys()\n",
    "    best_prob = -1\n",
    "    best_class = -1\n",
    "    q = True\n",
    "    for current_class in classes:\n",
    "        p = probability(dic, x, current_class)\n",
    "        if(q or p > best_prob):\n",
    "            best_prob = p\n",
    "            best_class = current_class\n",
    "        q = False\n",
    "    return best_class\n",
    "\n",
    "#It predicts which classification is best fit for the current document being accessed.\n",
    "\n",
    "def pred(x_test, dic):\n",
    "    y_pred = []\n",
    "    for doc in x_test:\n",
    "        y_pred.append(pred_one(dic, doc))\n",
    "    return y_pred\n",
    "#It creates an array of the predicted classifications of the documents in testing data."
   ]
  },
  {
   "cell_type": "code",
   "execution_count": 168,
   "id": "e8abeaa1",
   "metadata": {},
   "outputs": [],
   "source": [
    "dic = fit(final_x_train, y_train)"
   ]
  },
  {
   "cell_type": "code",
   "execution_count": 171,
   "id": "e672b7eb",
   "metadata": {},
   "outputs": [],
   "source": [
    "y_predicted = pred(final_x_test, dic)"
   ]
  },
  {
   "cell_type": "code",
   "execution_count": 173,
   "id": "d21f6100",
   "metadata": {},
   "outputs": [
    {
     "name": "stdout",
     "output_type": "stream",
     "text": [
      "83    0    0    0    0    0    0    0    0    0    0    0    1    4    0    10    1    6    2    7    \n",
      "0    97    2    9    15    7    2    1    0    1    0    1    4    5    5    1    1    0    1    0    \n",
      "0    30    54    23    6    17    1    2    1    0    0    0    5    0    0    0    0    0    0    0    \n",
      "0    15    1    100    14    3    5    1    1    0    1    0    7    0    2    0    0    0    1    1    \n",
      "0    5    1    15    95    1    4    2    2    0    0    0    9    2    1    0    0    1    0    0    \n",
      "0    18    2    4    4    109    0    0    3    0    3    1    4    3    1    1    0    0    0    0    \n",
      "1    3    0    8    2    0    108    1    1    1    3    0    7    5    3    0    0    4    0    0    \n",
      "0    1    0    2    1    0    6    100    7    1    0    0    4    2    3    0    5    3    1    1    \n",
      "0    0    0    0    0    0    3    3    114    0    1    0    1    2    1    1    3    2    0    0    \n",
      "1    0    0    1    0    0    0    2    0    116    6    0    5    1    1    1    0    0    1    0    \n",
      "1    0    0    0    1    0    1    2    1    5    118    0    2    3    1    0    0    0    1    0    \n",
      "0    2    0    0    0    0    0    0    1    0    0    134    0    0    1    0    5    0    2    0    \n",
      "0    13    0    14    8    2    5    5    1    1    1    2    93    4    3    1    2    1    1    0    \n",
      "2    6    0    0    0    1    1    1    1    0    1    0    5    125    2    2    1    3    0    0    \n",
      "0    7    0    1    0    0    2    2    0    0    2    0    3    5    125    1    2    0    4    1    \n",
      "5    0    0    0    0    0    1    1    0    2    2    0    0    5    0    129    1    3    3    7    \n",
      "0    1    0    0    1    0    0    1    1    2    2    2    1    2    0    1    117    5    2    2    \n",
      "5    4    0    1    0    0    0    0    1    0    1    0    3    5    1    1    2    123    1    1    \n",
      "2    1    0    0    0    0    1    2    0    4    1    2    0    5    1    1    13    3    100    2    \n",
      "14    1    0    0    0    0    0    0    0    0    2    0    1    1    2    17    6    5    3    49    \n"
     ]
    }
   ],
   "source": [
    "from sklearn.metrics import confusion_matrix\n",
    "for i in confusion_matrix(y_true = y_test, y_pred = y_predicted):\n",
    "    for j in i:\n",
    "        print(j, end = \"    \")\n",
    "    print()"
   ]
  },
  {
   "cell_type": "code",
   "execution_count": 175,
   "id": "f0b9b17d",
   "metadata": {},
   "outputs": [
    {
     "name": "stdout",
     "output_type": "stream",
     "text": [
      "              precision    recall  f1-score   support\n",
      "\n",
      "           0       0.73      0.73      0.73       114\n",
      "           1       0.48      0.64      0.54       152\n",
      "           2       0.90      0.39      0.54       139\n",
      "           3       0.56      0.66      0.61       152\n",
      "           4       0.65      0.69      0.67       138\n",
      "           5       0.78      0.71      0.74       153\n",
      "           6       0.77      0.73      0.75       147\n",
      "           7       0.79      0.73      0.76       137\n",
      "           8       0.84      0.87      0.86       131\n",
      "           9       0.87      0.86      0.87       135\n",
      "          10       0.82      0.87      0.84       136\n",
      "          11       0.94      0.92      0.93       145\n",
      "          12       0.60      0.59      0.60       157\n",
      "          13       0.70      0.83      0.76       151\n",
      "          14       0.82      0.81      0.81       155\n",
      "          15       0.77      0.81      0.79       159\n",
      "          16       0.74      0.84      0.78       140\n",
      "          17       0.77      0.83      0.80       149\n",
      "          18       0.81      0.72      0.77       138\n",
      "          19       0.69      0.49      0.57       101\n",
      "\n",
      "    accuracy                           0.74      2829\n",
      "   macro avg       0.75      0.74      0.74      2829\n",
      "weighted avg       0.75      0.74      0.74      2829\n",
      "\n"
     ]
    }
   ],
   "source": [
    "from sklearn.metrics import classification_report\n",
    "print(classification_report(y_true = y_test, y_pred = y_predicted))"
   ]
  },
  {
   "cell_type": "code",
   "execution_count": null,
   "id": "93ead615",
   "metadata": {},
   "outputs": [],
   "source": [
    "# We are getting an accuracy of 74%.\n",
    "# It can be made better by better feature selection.\n",
    "# And also the accuracy by my Naive Bayes classifier is same as the inbuilt Naive Bayes classifier"
   ]
  }
 ],
 "metadata": {
  "kernelspec": {
   "display_name": "Python 3 (ipykernel)",
   "language": "python",
   "name": "python3"
  },
  "language_info": {
   "codemirror_mode": {
    "name": "ipython",
    "version": 3
   },
   "file_extension": ".py",
   "mimetype": "text/x-python",
   "name": "python",
   "nbconvert_exporter": "python",
   "pygments_lexer": "ipython3",
   "version": "3.9.13"
  }
 },
 "nbformat": 4,
 "nbformat_minor": 5
}
